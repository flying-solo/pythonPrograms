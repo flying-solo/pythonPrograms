{
  "nbformat": 4,
  "nbformat_minor": 0,
  "metadata": {
    "colab": {
      "name": "Threading_Python (1).ipynb",
      "provenance": [],
      "collapsed_sections": [],
      "include_colab_link": true
    },
    "kernelspec": {
      "name": "python3",
      "display_name": "Python 3"
    },
    "language_info": {
      "name": "python"
    }
  },
  "cells": [
    {
      "cell_type": "markdown",
      "metadata": {
        "id": "view-in-github",
        "colab_type": "text"
      },
      "source": [
        "<a href=\"https://colab.research.google.com/github/flying-solo/pythonPrograms/blob/main/Threading_Python_(1).ipynb\" target=\"_parent\"><img src=\"https://colab.research.google.com/assets/colab-badge.svg\" alt=\"Open In Colab\"/></a>"
      ]
    },
    {
      "cell_type": "code",
      "execution_count": null,
      "metadata": {
        "colab": {
          "base_uri": "https://localhost:8080/"
        },
        "id": "q8Mt6PpeCYzG",
        "outputId": "ff7451b3-be98-4652-e535-5d43b6beaa9f"
      },
      "outputs": [
        {
          "output_type": "stream",
          "name": "stdout",
          "text": [
            "MainThread\n",
            "ChildThread1\n",
            "1\n",
            "2\n",
            "3\n",
            "4\n",
            "Child1\n",
            "ChildThread2\n",
            "11\n",
            "12\n",
            "13\n",
            "14\n",
            "15\n",
            "16\n",
            "17\n",
            "18\n",
            "19\n",
            "20\n"
          ]
        }
      ],
      "source": [
        "from threading import *\n",
        "import threading\n",
        "import time\n",
        "def fun1():\n",
        "  print(threading.currentThread().getName())\n",
        "  for i in range(1,11):\n",
        "    if(i==5):\n",
        "      threading.currentThread().setName(\"Child1\")\n",
        "      print(threading.currentThread().getName())\n",
        "      time.sleep(2)\n",
        "    print(i)\n",
        "def fun2():\n",
        "  print(threading.currentThread().getName())\n",
        "  for i in range(11,21):\n",
        "    print(i)\n",
        "print(threading.currentThread().getName())\n",
        "child1 = Thread(name=\"ChildThread1\",target=fun1)\n",
        "child2 = Thread(name=\"ChildThread2\",target=fun2)\n",
        "child1.start()\n",
        "child2.start()"
      ]
    },
    {
      "cell_type": "code",
      "source": [
        "#rite a multi threaded program .Given a 2D matrix (or list of lists),\n",
        "#count how many numbers are present between a given range in each row. \n",
        "import threading\n",
        "import time\n",
        "results = []\n",
        "def HowMany_inRange(row,minimum,maximum):\n",
        "  global results\n",
        "  print(row,\" \",maximum,\" \",minimum)\n",
        "  for n in row:\n",
        "    if minimum <= n <= maximum:\n",
        "      results.append(n)      \n",
        "l  = [[3,11,24,17],[14,34,21,11],[15,33,13,27]]\n",
        "for row in l:\n",
        "  t= threading.Thread(target=HowMany_inRange,args=(row,5,30))\n",
        "  t.start()\n",
        "  t.join()\n",
        "time.sleep(5)\n",
        "print(results)\n"
      ],
      "metadata": {
        "colab": {
          "base_uri": "https://localhost:8080/"
        },
        "id": "rSIsr1Yqa3FI",
        "outputId": "43067490-738f-48f2-b697-13b1af594dc5"
      },
      "execution_count": null,
      "outputs": [
        {
          "output_type": "stream",
          "name": "stdout",
          "text": [
            "[3, 11, 24, 17]   30   5\n",
            "[14, 34, 21, 11]   30   5\n",
            "[15, 33, 13, 27]   30   5\n",
            "[11, 24, 17, 14, 21, 11, 15, 13, 27]\n"
          ]
        }
      ]
    },
    {
      "cell_type": "code",
      "source": [
        "import multiprocessing as mp\n",
        "import threading\n",
        "import time\n",
        "def HowMany_inRange(row,maximum=30,minimum=5):\n",
        "  results = []\n",
        "  for n in row:\n",
        "    if minimum <= n <= maximum:\n",
        "      results.append(n)\n",
        "  return results      \n",
        "l  = [[3,11,24,17],[14,34,21,11],[15,33,13,27]]\n",
        "pool = mp.Pool(mp.cpu_count())\n",
        "#results = pool.map(HowMany_inRange, [row for row in l])\n",
        "for row in l:\n",
        "    pool.apply_async(HowMany_inRange, args=(row))\n",
        "pool.close()\n",
        "pool.join()\n",
        "print(results)\n"
      ],
      "metadata": {
        "colab": {
          "base_uri": "https://localhost:8080/"
        },
        "id": "rR2Pf6QhgLdx",
        "outputId": "5faec08b-aafa-45f0-af14-0b3168f30503"
      },
      "execution_count": null,
      "outputs": [
        {
          "output_type": "stream",
          "name": "stdout",
          "text": [
            "[11, 24, 17, 14, 21, 11, 15, 13, 27]\n"
          ]
        }
      ]
    },
    {
      "cell_type": "code",
      "source": [
        "import multiprocessing as mp\n",
        "print(mp.cpu_count())"
      ],
      "metadata": {
        "colab": {
          "base_uri": "https://localhost:8080/"
        },
        "id": "Yrxo-J4DsdVW",
        "outputId": "8a3f6e7d-326b-4a33-e5d4-01891e35c730"
      },
      "execution_count": null,
      "outputs": [
        {
          "output_type": "stream",
          "name": "stdout",
          "text": [
            "2\n"
          ]
        }
      ]
    },
    {
      "cell_type": "code",
      "source": [
        "import threading\n",
        "def square(num):\n",
        "  for i in range(2,num):\n",
        "    print(threading.currentThread().getName(),end= \" \")\n",
        "    print(i*i)\n",
        "def cube(num):\n",
        "  for i in range(2,num):\n",
        "    print(threading.currentThread().getName(),end=\" \")\n",
        "    print(i*i*i)\n",
        "\n",
        "t1= Thread(name=\"Square\",target=square,args=(10,))\n",
        "t2= Thread(name=\"cube\",target=cube,args=(5,))\n",
        "t1.start()\n",
        "t2.start()\n",
        "t2.join()\n",
        "#t2.start()\n",
        "#t2.join()"
      ],
      "metadata": {
        "colab": {
          "base_uri": "https://localhost:8080/"
        },
        "id": "h3ugxgzaHfnM",
        "outputId": "defbaf48-8762-4ea9-a836-50da21cf3256"
      },
      "execution_count": null,
      "outputs": [
        {
          "output_type": "stream",
          "name": "stdout",
          "text": [
            "Square 4\n",
            "Square 9\n",
            "Square 16\n",
            "Square 25\n",
            "Square 36\n",
            "Square 49\n",
            "Square 64\n",
            "Square 81\n",
            "cube 8\n",
            "cube 27\n",
            "cube 64\n"
          ]
        }
      ]
    },
    {
      "cell_type": "code",
      "source": [
        "import threading\n",
        "x = 0\n",
        "def increment():\n",
        "  global x\n",
        "  x += 1\n",
        "\n",
        "def thread_task(lock):\n",
        "  for _ in range(100000):\n",
        "    #lock.acquire()\n",
        "    increment()\n",
        "    #lock.release()\n",
        "\n",
        "\n",
        "def main_task():\n",
        "  global x\n",
        "  x = 0\n",
        "  lock = threading.Lock()\n",
        "\t# creating threads\n",
        "  t1 = threading.Thread(target=thread_task,args=(lock,))\n",
        "  t2 = threading.Thread(target=thread_task,args=(lock,))\n",
        "  # start threads\n",
        "  t1.start()\n",
        "  t2.start()\n",
        "  # wait until threads finish their job\n",
        "  t1.join()\n",
        "  t2.join()\n",
        "\n",
        "if __name__ == \"__main__\":\n",
        "\tfor i in range(10):\n",
        "\t\tmain_task()\n",
        "\t\tprint(\"Iteration {0}: x = {1}\".format(i,x))\n"
      ],
      "metadata": {
        "colab": {
          "base_uri": "https://localhost:8080/"
        },
        "id": "l5fsT9T5Jbte",
        "outputId": "d2260c8b-f38f-4c10-a19a-0950a542a7a7"
      },
      "execution_count": null,
      "outputs": [
        {
          "output_type": "stream",
          "name": "stdout",
          "text": [
            "Iteration 0: x = 155074\n",
            "Iteration 1: x = 198114\n",
            "Iteration 2: x = 200000\n",
            "Iteration 3: x = 200000\n",
            "Iteration 4: x = 168186\n",
            "Iteration 5: x = 169568\n",
            "Iteration 6: x = 169781\n",
            "Iteration 7: x = 137108\n",
            "Iteration 8: x = 168362\n",
            "Iteration 9: x = 132271\n"
          ]
        }
      ]
    },
    {
      "cell_type": "code",
      "source": [
        ""
      ],
      "metadata": {
        "id": "PSRsdSwe_9mi"
      },
      "execution_count": null,
      "outputs": []
    },
    {
      "cell_type": "code",
      "source": [
        "from threading import *\n",
        "import time\n",
        "def wish(name,age):\n",
        "   for i in range(3):\n",
        "       print(\"Hi\",name)\n",
        "       time.sleep(2)\n",
        "       print(\"Your age is\",age)\n",
        "t1=Thread(target=wish, args=(\"Sireesh\",15))\n",
        "t2=Thread(target=wish, args=(\"Nitya\",20))\n",
        "t1.start()\n",
        "t2.start()"
      ],
      "metadata": {
        "colab": {
          "base_uri": "https://localhost:8080/"
        },
        "id": "xSGpRDdf_gpT",
        "outputId": "ecfc4c26-5e7c-49f6-913e-835360e9e465"
      },
      "execution_count": null,
      "outputs": [
        {
          "output_type": "stream",
          "name": "stdout",
          "text": [
            "HiHi Sireesh\n",
            " Nitya\n"
          ]
        }
      ]
    },
    {
      "cell_type": "code",
      "source": [
        "#Without Locking\n",
        "\n",
        "import threading\n",
        "import time\n",
        " \n",
        "class BankAccount():\n",
        "  def __init__(self, name, balance):\n",
        "    self.name = name\n",
        "    self.balance = balance\n",
        " \n",
        "  def __str__(self):\n",
        "    return self.name\n",
        " \n",
        "# These accounts are our shared resources\n",
        "account1 = BankAccount(\"account1\", 100)\n",
        "account2 = BankAccount(\"account2\", 0)\n",
        " \n",
        "class BankTransferThread(threading.Thread):\n",
        "  def __init__(self, sender, receiver, amount):\n",
        "    threading.Thread.__init__(self)\n",
        "    self.sender = sender\n",
        "    self.receiver = receiver\n",
        "    self.amount = amount\n",
        "   \n",
        "  def run(self):\n",
        "    sender_initial_balance = self.sender.balance\n",
        "    sender_initial_balance -= self.amount\n",
        "    # Inserting delay to allow switch between threads\n",
        "    time.sleep(0.001)\n",
        "    self.sender.balance = sender_initial_balance\n",
        "     \n",
        "    receiver_initial_balance = self.receiver.balance\n",
        "    receiver_initial_balance += self.amount\n",
        "    # Inserting delay to allow switch between threads\n",
        "    time.sleep(0.001)\n",
        "    self.receiver.balance = receiver_initial_balance\n",
        " \n",
        "if __name__ == \"__main__\":\n",
        "   \n",
        "  threads = []\n",
        " \n",
        "  for i in range(100):\n",
        "    threads.append(BankTransferThread(account1, account2, 1))\n",
        " \n",
        "  for thread in threads:\n",
        "    thread.start()\n",
        " \n",
        "  for thread in threads:\n",
        "    thread.join()\n",
        " \n",
        "  print(account1.balance)\n",
        "  print(account2.balance)"
      ],
      "metadata": {
        "colab": {
          "base_uri": "https://localhost:8080/"
        },
        "id": "JgoEi_l6AGxS",
        "outputId": "47f644c0-1cf5-4d95-cd05-405af1266a77"
      },
      "execution_count": null,
      "outputs": [
        {
          "output_type": "stream",
          "name": "stdout",
          "text": [
            "89\n",
            "10\n"
          ]
        }
      ]
    },
    {
      "cell_type": "code",
      "source": [
        "#with Locking\n",
        "import threading\n",
        "import time\n",
        " \n",
        "class BankAccount():\n",
        "  def __init__(self, name, balance):\n",
        "    self.name = name\n",
        "    self.balance = balance\n",
        " \n",
        "  def __str__(self):\n",
        "    return self.name\n",
        " \n",
        "# These accounts are our shared resources\n",
        "account1 = BankAccount(\"account1\", 100)\n",
        "account2 = BankAccount(\"account2\", 0)\n",
        " \n",
        "# Creating lock for threads\n",
        "lock = threading.Lock()\n",
        " \n",
        "class BankTransferThread(threading.Thread):\n",
        "  def __init__(self, sender, receiver, amount):\n",
        "    threading.Thread.__init__(self)\n",
        "    self.sender = sender\n",
        "    self.receiver = receiver\n",
        "    self.amount = amount\n",
        "   \n",
        "  def run(self):\n",
        "    lock.acquire()\n",
        "     \n",
        "    sender_initial_balance = self.sender.balance\n",
        "    sender_initial_balance -= self.amount\n",
        "    # Inserting delay to allow switch between threads\n",
        "    time.sleep(0.001)\n",
        "    self.sender.balance = sender_initial_balance\n",
        "     \n",
        "    receiver_initial_balance = self.receiver.balance\n",
        "    receiver_initial_balance += self.amount\n",
        "    # Inserting delay to allow switch between threads\n",
        "    time.sleep(0.001)\n",
        "    self.receiver.balance = receiver_initial_balance\n",
        "     \n",
        "    lock.release()\n",
        "     \n",
        " \n",
        "if __name__ == \"__main__\":\n",
        "   \n",
        "  threads = []\n",
        " \n",
        "  for i in range(100):\n",
        "    threads.append(BankTransferThread(account1, account2, 1))\n",
        " \n",
        "  for thread in threads:\n",
        "    thread.start()\n",
        " \n",
        "  for thread in threads:\n",
        "    thread.join()\n",
        " \n",
        "  print(account1.name, account1.balance)\n",
        "  print(account2.name, account2.balance)"
      ],
      "metadata": {
        "colab": {
          "base_uri": "https://localhost:8080/"
        },
        "id": "8szji_UG_-So",
        "outputId": "7d62ae0d-c82d-45f4-d934-e3b0fb54ed96"
      },
      "execution_count": null,
      "outputs": [
        {
          "output_type": "stream",
          "name": "stdout",
          "text": [
            "account1 0\n",
            "account2 100\n"
          ]
        }
      ]
    },
    {
      "cell_type": "code",
      "source": [
        "items=[]\n",
        "def produce(c):\n",
        "   while True:\n",
        "       c.acquire() #Step 1.1\n",
        "       item=random.randint(1,10) #Step 1.2\n",
        "       print(\"Producer Producing Item:\", item)\n",
        "       items.append(item) #Step 1.3\n",
        "       print(\"Producer giving Notification\")\n",
        "       c.notify() #Step 1.4\n",
        "       c.release() #Step 1.5\n",
        "       time.sleep(5)\n",
        "def consume(c):\n",
        "   while True:\n",
        "       c.acquire() #Step 2.1\n",
        "       print(\"Consumer waiting for update\")\n",
        "       c.wait() #Step 2.2\n",
        "       print(\"Consumer consumed the item\", items.pop()) #Step 2.3\n",
        "       c.release() #Step 2.4\n",
        "       time.sleep(5)\n",
        "c=Condition()\n",
        "t1=Thread(target=consume, args=(c,))\n",
        "t2=Thread(target=produce, args=(c,))\n",
        "t1.start()\n",
        "t2.start()"
      ],
      "metadata": {
        "colab": {
          "base_uri": "https://localhost:8080/"
        },
        "id": "9fhL0hF7Avq5",
        "outputId": "c01fd13b-9c10-444e-83eb-b70cbe9669e0"
      },
      "execution_count": null,
      "outputs": [
        {
          "output_type": "stream",
          "name": "stdout",
          "text": [
            "Consumer waiting for update\n"
          ]
        },
        {
          "output_type": "stream",
          "name": "stderr",
          "text": [
            "Exception in thread Thread-222:\n",
            "Traceback (most recent call last):\n",
            "  File \"/usr/lib/python3.7/threading.py\", line 926, in _bootstrap_inner\n",
            "    self.run()\n",
            "  File \"/usr/lib/python3.7/threading.py\", line 870, in run\n",
            "    self._target(*self._args, **self._kwargs)\n",
            "  File \"<ipython-input-8-3a78ec9c078a>\", line 5, in produce\n",
            "    item=random.randint(1,10) #Step 1.2\n",
            "NameError: name 'random' is not defined\n",
            "\n"
          ]
        }
      ]
    }
  ]
}