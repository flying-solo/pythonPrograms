{
  "nbformat": 4,
  "nbformat_minor": 0,
  "metadata": {
    "colab": {
      "name": "Python oops.ipynb",
      "provenance": [],
      "authorship_tag": "ABX9TyObwq4q0QB6rC/sQ9SYDv/G",
      "include_colab_link": true
    },
    "kernelspec": {
      "name": "python3",
      "display_name": "Python 3"
    },
    "language_info": {
      "name": "python"
    }
  },
  "cells": [
    {
      "cell_type": "markdown",
      "metadata": {
        "id": "view-in-github",
        "colab_type": "text"
      },
      "source": [
        "<a href=\"https://colab.research.google.com/github/flying-solo/pythonPrograms/blob/main/Python_oops.ipynb\" target=\"_parent\"><img src=\"https://colab.research.google.com/assets/colab-badge.svg\" alt=\"Open In Colab\"/></a>"
      ]
    },
    {
      "cell_type": "code",
      "source": [
        "import sqlite3 \n",
        "con=sqlite3.connect('Developer db')\n",
        "c=con.cursor()\n",
        "c.execute(\"create table Dev(Program Language text,Duration int,Consultancy text)\")\n",
        "con.commit()\n",
        "\n"
      ],
      "metadata": {
        "colab": {
          "base_uri": "https://localhost:8080/",
          "height": 243
        },
        "id": "rYixBZGG5ID5",
        "outputId": "db4ddee9-0eb0-410c-c67e-570f995691fc"
      },
      "execution_count": 2,
      "outputs": [
        {
          "output_type": "error",
          "ename": "OperationalError",
          "evalue": "ignored",
          "traceback": [
            "\u001b[0;31m---------------------------------------------------------------------------\u001b[0m",
            "\u001b[0;31mOperationalError\u001b[0m                          Traceback (most recent call last)",
            "\u001b[0;32m<ipython-input-2-90befa89904b>\u001b[0m in \u001b[0;36m<module>\u001b[0;34m()\u001b[0m\n\u001b[1;32m      2\u001b[0m \u001b[0mcon\u001b[0m\u001b[0;34m=\u001b[0m\u001b[0msqlite3\u001b[0m\u001b[0;34m.\u001b[0m\u001b[0mconnect\u001b[0m\u001b[0;34m(\u001b[0m\u001b[0;34m'Developer db'\u001b[0m\u001b[0;34m)\u001b[0m\u001b[0;34m\u001b[0m\u001b[0;34m\u001b[0m\u001b[0m\n\u001b[1;32m      3\u001b[0m \u001b[0mc\u001b[0m\u001b[0;34m=\u001b[0m\u001b[0mcon\u001b[0m\u001b[0;34m.\u001b[0m\u001b[0mcursor\u001b[0m\u001b[0;34m(\u001b[0m\u001b[0;34m)\u001b[0m\u001b[0;34m\u001b[0m\u001b[0;34m\u001b[0m\u001b[0m\n\u001b[0;32m----> 4\u001b[0;31m \u001b[0mc\u001b[0m\u001b[0;34m.\u001b[0m\u001b[0mexecute\u001b[0m\u001b[0;34m(\u001b[0m\u001b[0;34m\"create table Dev(Program Language text,Duration int,Consultancy text)\"\u001b[0m\u001b[0;34m)\u001b[0m\u001b[0;34m\u001b[0m\u001b[0;34m\u001b[0m\u001b[0m\n\u001b[0m\u001b[1;32m      5\u001b[0m \u001b[0mc\u001b[0m\u001b[0;34m.\u001b[0m\u001b[0mcommit\u001b[0m\u001b[0;34m(\u001b[0m\u001b[0;34m)\u001b[0m\u001b[0;34m\u001b[0m\u001b[0;34m\u001b[0m\u001b[0m\n\u001b[1;32m      6\u001b[0m \u001b[0mc\u001b[0m\u001b[0;34m.\u001b[0m\u001b[0mclose\u001b[0m\u001b[0;34m(\u001b[0m\u001b[0;34m)\u001b[0m\u001b[0;34m\u001b[0m\u001b[0;34m\u001b[0m\u001b[0m\n",
            "\u001b[0;31mOperationalError\u001b[0m: table Dev already exists"
          ]
        }
      ]
    },
    {
      "cell_type": "code",
      "source": [
        "import sqlite3 \n",
        "con=sqlite3.connect('Developer db')\n",
        "c=con.cursor()\n",
        "c.execute(\"Insert into Dev values ('Java','2hr','Tata')\")"
      ],
      "metadata": {
        "colab": {
          "base_uri": "https://localhost:8080/"
        },
        "id": "A3Vw7Fk_8Pv8",
        "outputId": "b2baea03-3c20-4bc7-e03d-b1414de4b2f3"
      },
      "execution_count": 4,
      "outputs": [
        {
          "output_type": "execute_result",
          "data": {
            "text/plain": [
              "<sqlite3.Cursor at 0x7fd0587b8810>"
            ]
          },
          "metadata": {},
          "execution_count": 4
        }
      ]
    },
    {
      "cell_type": "code",
      "source": [
        "import sqlite3 \n",
        "con=sqlite3.connect('Developer db')\n",
        "c=con.cursor()\n",
        "c.execute(\"Insert into Dev values ('C','3hr','Tata')\")\n",
        "c.execute(\"Insert into Dev values ('Javascript','5hr','Tata')\")"
      ],
      "metadata": {
        "colab": {
          "base_uri": "https://localhost:8080/",
          "height": 225
        },
        "id": "tFB8cA7N9IJh",
        "outputId": "e2b6b9d7-0ebf-4a73-dba9-bada9c29089f"
      },
      "execution_count": 5,
      "outputs": [
        {
          "output_type": "error",
          "ename": "OperationalError",
          "evalue": "ignored",
          "traceback": [
            "\u001b[0;31m---------------------------------------------------------------------------\u001b[0m",
            "\u001b[0;31mOperationalError\u001b[0m                          Traceback (most recent call last)",
            "\u001b[0;32m<ipython-input-5-052ee192db6a>\u001b[0m in \u001b[0;36m<module>\u001b[0;34m()\u001b[0m\n\u001b[1;32m      2\u001b[0m \u001b[0mcon\u001b[0m\u001b[0;34m=\u001b[0m\u001b[0msqlite3\u001b[0m\u001b[0;34m.\u001b[0m\u001b[0mconnect\u001b[0m\u001b[0;34m(\u001b[0m\u001b[0;34m'Developer db'\u001b[0m\u001b[0;34m)\u001b[0m\u001b[0;34m\u001b[0m\u001b[0;34m\u001b[0m\u001b[0m\n\u001b[1;32m      3\u001b[0m \u001b[0mc\u001b[0m\u001b[0;34m=\u001b[0m\u001b[0mcon\u001b[0m\u001b[0;34m.\u001b[0m\u001b[0mcursor\u001b[0m\u001b[0;34m(\u001b[0m\u001b[0;34m)\u001b[0m\u001b[0;34m\u001b[0m\u001b[0;34m\u001b[0m\u001b[0m\n\u001b[0;32m----> 4\u001b[0;31m \u001b[0mc\u001b[0m\u001b[0;34m.\u001b[0m\u001b[0mexecute\u001b[0m\u001b[0;34m(\u001b[0m\u001b[0;34m\"Insert into Dev values ('C','3hr','Tata')\"\u001b[0m\u001b[0;34m)\u001b[0m\u001b[0;34m\u001b[0m\u001b[0;34m\u001b[0m\u001b[0m\n\u001b[0m\u001b[1;32m      5\u001b[0m \u001b[0mc\u001b[0m\u001b[0;34m.\u001b[0m\u001b[0mexecute\u001b[0m\u001b[0;34m(\u001b[0m\u001b[0;34m\"Insert into Dev values ('Javascript','5hr','Tata')\"\u001b[0m\u001b[0;34m)\u001b[0m\u001b[0;34m\u001b[0m\u001b[0;34m\u001b[0m\u001b[0m\n",
            "\u001b[0;31mOperationalError\u001b[0m: database is locked"
          ]
        }
      ]
    },
    {
      "cell_type": "code",
      "source": [
        "import sqlite3 \n",
        "con=sqlite3.connect('Developers db')\n",
        "c=con.cursor()\n",
        "#c.execute(\"create table Devo(Program Language text,Duration int,Consultancy text)\")\n",
        "c.execute(\"Insert into Devo values ('Java','2hr','Tata')\")\n",
        "c.execute(\"Insert into Devo values ('C','3hr','Tata')\")\n",
        "c.execute(\"Insert into Devo values ('Javascript','5hr','Tata')\")\n",
        "c.execute(\"Select * from Devo\")\n",
        "con.commit()\n",
        "print(c.fetchall())"
      ],
      "metadata": {
        "colab": {
          "base_uri": "https://localhost:8080/",
          "height": 225
        },
        "id": "vFia1p7G-GIW",
        "outputId": "aa703eff-676e-4034-f270-b62377c5d42e"
      },
      "execution_count": 19,
      "outputs": [
        {
          "output_type": "error",
          "ename": "OperationalError",
          "evalue": "ignored",
          "traceback": [
            "\u001b[0;31m---------------------------------------------------------------------------\u001b[0m",
            "\u001b[0;31mOperationalError\u001b[0m                          Traceback (most recent call last)",
            "\u001b[0;32m<ipython-input-19-e5a819a66e8c>\u001b[0m in \u001b[0;36m<module>\u001b[0;34m()\u001b[0m\n\u001b[1;32m      7\u001b[0m \u001b[0mc\u001b[0m\u001b[0;34m.\u001b[0m\u001b[0mexecute\u001b[0m\u001b[0;34m(\u001b[0m\u001b[0;34m\"Insert into Devo values ('Javascript','5hr','Tata')\"\u001b[0m\u001b[0;34m)\u001b[0m\u001b[0;34m\u001b[0m\u001b[0;34m\u001b[0m\u001b[0m\n\u001b[1;32m      8\u001b[0m \u001b[0mc\u001b[0m\u001b[0;34m.\u001b[0m\u001b[0mexecute\u001b[0m\u001b[0;34m(\u001b[0m\u001b[0;34m\"Select * from Devo\"\u001b[0m\u001b[0;34m)\u001b[0m\u001b[0;34m\u001b[0m\u001b[0;34m\u001b[0m\u001b[0m\n\u001b[0;32m----> 9\u001b[0;31m \u001b[0mcon\u001b[0m\u001b[0;34m.\u001b[0m\u001b[0mcommit\u001b[0m\u001b[0;34m(\u001b[0m\u001b[0;34m)\u001b[0m\u001b[0;34m\u001b[0m\u001b[0;34m\u001b[0m\u001b[0m\n\u001b[0m\u001b[1;32m     10\u001b[0m \u001b[0mprint\u001b[0m\u001b[0;34m(\u001b[0m\u001b[0mc\u001b[0m\u001b[0;34m.\u001b[0m\u001b[0mfetchall\u001b[0m\u001b[0;34m(\u001b[0m\u001b[0;34m)\u001b[0m\u001b[0;34m)\u001b[0m\u001b[0;34m\u001b[0m\u001b[0;34m\u001b[0m\u001b[0m\n",
            "\u001b[0;31mOperationalError\u001b[0m: database is locked"
          ]
        }
      ]
    },
    {
      "cell_type": "code",
      "source": [
        "import sqlite3 \n",
        "con=sqlite3.connect('Developer1 db')\n",
        "c=con.cursor()\n",
        "#c.execute(\"create table Devo(Program Language text,Duration int,Consultancy text)\")\n",
        "c.execute(\"Insert into Devo values ('Java','2hr','Tata')\")\n",
        "c.execute(\"Insert into Devo values ('C','3hr','Tata')\")\n",
        "c.execute(\"Insert into Devo values ('Javascript','5hr','Tata')\")\n",
        "c.execute(\"Select * from Devo\")\n",
        "con.commit()\n",
        "print(c.fetchall())"
      ],
      "metadata": {
        "colab": {
          "base_uri": "https://localhost:8080/"
        },
        "id": "tc7R7DoG_woD",
        "outputId": "0517b752-1d94-49e6-a508-0dc9d0c20122"
      },
      "execution_count": 23,
      "outputs": [
        {
          "output_type": "stream",
          "name": "stdout",
          "text": [
            "[('Java', '2hr', 'Tata'), ('C', '3hr', 'Tata'), ('Javascript', '5hr', 'Tata'), ('Java', '2hr', 'Tata'), ('C', '3hr', 'Tata'), ('Javascript', '5hr', 'Tata')]\n"
          ]
        }
      ]
    },
    {
      "cell_type": "code",
      "source": [
        "import sqlite3 \n",
        "con=sqlite3.connect('Doctor db')\n",
        "c=con.cursor()\n",
        "c.execute(\"create table patient(Patient_ID int,Name text,Bed int,Disease text)\")\n",
        "c.execute(\"Insert into patient values (10,'Mayo',204,'Accident')\")\n",
        "c.execute(\"Insert into patient values (11,'John',205,'Diabetes')\")\n",
        "c.execute(\"Insert into patient values (12,'Walter',207,'Parkinson')\")\n",
        "c.execute(\"Insert into patient values (13,'Wilsmith',208,'Nightbindness')\")\n",
        "\n",
        "c.execute(\"Select * from patient\")\n",
        "con.commit()\n",
        "\n",
        "print(c.fetchall())"
      ],
      "metadata": {
        "colab": {
          "base_uri": "https://localhost:8080/"
        },
        "id": "sJT1ptmxAJwH",
        "outputId": "e47aac2f-653c-4c33-b87d-317cd4c0bdb0"
      },
      "execution_count": 24,
      "outputs": [
        {
          "output_type": "stream",
          "name": "stdout",
          "text": [
            "[(10, 'Mayo', 204, 'Accident'), (11, 'John', 205, 'Diabetes'), (12, 'Walter', 207, 'Parkinson'), (13, 'Wilsmith', 208, 'Nightbindness')]\n"
          ]
        }
      ]
    },
    {
      "cell_type": "code",
      "source": [
        "import sqlite3 \n",
        "con=sqlite3.connect('Doctor db')\n",
        "c=con.cursor()\n",
        "c.execute(\"Select * from patient\")\n",
        "a=c.fetchall()\n",
        "for i in a:\n",
        "  print(i)"
      ],
      "metadata": {
        "colab": {
          "base_uri": "https://localhost:8080/"
        },
        "id": "vnlKm-6rBrdh",
        "outputId": "dea9fe62-0ca6-4ecd-8c63-68f7baa07b30"
      },
      "execution_count": 25,
      "outputs": [
        {
          "output_type": "stream",
          "name": "stdout",
          "text": [
            "(10, 'Mayo', 204, 'Accident')\n",
            "(11, 'John', 205, 'Diabetes')\n",
            "(12, 'Walter', 207, 'Parkinson')\n",
            "(13, 'Wilsmith', 208, 'Nightbindness')\n"
          ]
        }
      ]
    },
    {
      "cell_type": "code",
      "source": [
        "import sqlite3 \n",
        "con=sqlite3.connect('Doctor db')\n",
        "c=con.cursor()\n",
        "c.execute(\"Insert into patient values (14,'Aryan',696,'Depression')\")\n",
        "con.commit()\n",
        "c.execute(\"Select * from patient\")\n",
        "print(c.fetchmany(4))"
      ],
      "metadata": {
        "colab": {
          "base_uri": "https://localhost:8080/",
          "height": 207
        },
        "id": "JWb82mxNCNl0",
        "outputId": "4902b26f-2bca-4b78-eef8-28503178cc85"
      },
      "execution_count": 28,
      "outputs": [
        {
          "output_type": "error",
          "ename": "TypeError",
          "evalue": "ignored",
          "traceback": [
            "\u001b[0;31m---------------------------------------------------------------------------\u001b[0m",
            "\u001b[0;31mTypeError\u001b[0m                                 Traceback (most recent call last)",
            "\u001b[0;32m<ipython-input-28-93d5ba325bc6>\u001b[0m in \u001b[0;36m<module>\u001b[0;34m()\u001b[0m\n\u001b[1;32m      5\u001b[0m \u001b[0mcon\u001b[0m\u001b[0;34m.\u001b[0m\u001b[0mcommit\u001b[0m\u001b[0;34m(\u001b[0m\u001b[0;34m)\u001b[0m\u001b[0;34m\u001b[0m\u001b[0;34m\u001b[0m\u001b[0m\n\u001b[1;32m      6\u001b[0m \u001b[0mc\u001b[0m\u001b[0;34m.\u001b[0m\u001b[0mexecute\u001b[0m\u001b[0;34m(\u001b[0m\u001b[0;34m\"Select * from patient\"\u001b[0m\u001b[0;34m)\u001b[0m\u001b[0;34m\u001b[0m\u001b[0;34m\u001b[0m\u001b[0m\n\u001b[0;32m----> 7\u001b[0;31m \u001b[0mprint\u001b[0m\u001b[0;34m(\u001b[0m\u001b[0mc\u001b[0m\u001b[0;34m.\u001b[0m\u001b[0mfetchone\u001b[0m\u001b[0;34m(\u001b[0m\u001b[0;36m4\u001b[0m\u001b[0;34m)\u001b[0m\u001b[0;34m)\u001b[0m\u001b[0;34m\u001b[0m\u001b[0;34m\u001b[0m\u001b[0m\n\u001b[0m",
            "\u001b[0;31mTypeError\u001b[0m: fetchone() takes no arguments (1 given)"
          ]
        }
      ]
    },
    {
      "cell_type": "code",
      "source": [
        "import sqlite3 \n",
        "con=sqlite3.connect('Doctor db')\n",
        "c=con.cursor()\n",
        "c.execute(\"DELETE from patient where Patient_ID=12\")\n",
        "print(c.fetchall())"
      ],
      "metadata": {
        "colab": {
          "base_uri": "https://localhost:8080/"
        },
        "id": "_-I4BgWBC9Ez",
        "outputId": "a5662200-5e43-46e7-e0de-29e358a5bc56"
      },
      "execution_count": 29,
      "outputs": [
        {
          "output_type": "stream",
          "name": "stdout",
          "text": [
            "[]\n"
          ]
        }
      ]
    },
    {
      "cell_type": "code",
      "source": [
        "c.execute(\"Select * from patient\")\n",
        "data = c.fetchall()\n",
        "for i in data:\n",
        "  print(i)"
      ],
      "metadata": {
        "colab": {
          "base_uri": "https://localhost:8080/"
        },
        "id": "pzF3H6bsDbGx",
        "outputId": "69269073-1685-4138-a175-5df5ec044560"
      },
      "execution_count": 31,
      "outputs": [
        {
          "output_type": "stream",
          "name": "stdout",
          "text": [
            "(10, 'Mayo', 204, 'Accident')\n",
            "(11, 'John', 205, 'Diabetes')\n",
            "(13, 'Wilsmith', 208, 'Nightbindness')\n",
            "(14, 'Aryan', 696, 'Depression')\n",
            "(14, 'Aryan', 696, 'Depression')\n"
          ]
        }
      ]
    },
    {
      "cell_type": "code",
      "source": [
        "c.execute(\"DELETE from patient where Patient_ID=14\")"
      ],
      "metadata": {
        "colab": {
          "base_uri": "https://localhost:8080/"
        },
        "id": "dptpjgUtDyfU",
        "outputId": "3b58129d-a199-4661-b443-ff63c7d496fb"
      },
      "execution_count": 32,
      "outputs": [
        {
          "output_type": "execute_result",
          "data": {
            "text/plain": [
              "<sqlite3.Cursor at 0x7fd054c91180>"
            ]
          },
          "metadata": {},
          "execution_count": 32
        }
      ]
    },
    {
      "cell_type": "code",
      "source": [
        "c.execute(\"Select * from patient\")\n",
        "data = c.fetchall()\n",
        "for i in data:\n",
        "  print(i)"
      ],
      "metadata": {
        "colab": {
          "base_uri": "https://localhost:8080/"
        },
        "id": "WeCw-o3jD15C",
        "outputId": "84d50ccf-95c6-444a-cb5f-bdc0ffdcb1c5"
      },
      "execution_count": 33,
      "outputs": [
        {
          "output_type": "stream",
          "name": "stdout",
          "text": [
            "(10, 'Mayo', 204, 'Accident')\n",
            "(11, 'John', 205, 'Diabetes')\n",
            "(13, 'Wilsmith', 208, 'Nightbindness')\n"
          ]
        }
      ]
    },
    {
      "cell_type": "code",
      "source": [
        "c.execute(\"Insert into patient values (14,'Aryan',696,'Depression')\")\n",
        "con.commit()\n",
        "c.execute(\"Select * from patient\")\n",
        "data = c.fetchall()\n",
        "for i in data:\n",
        "  print(i)\n"
      ],
      "metadata": {
        "colab": {
          "base_uri": "https://localhost:8080/"
        },
        "id": "E6udXgUgD7Q1",
        "outputId": "edba42fa-914c-4293-eb9e-16a9ea3a0450"
      },
      "execution_count": 34,
      "outputs": [
        {
          "output_type": "stream",
          "name": "stdout",
          "text": [
            "(10, 'Mayo', 204, 'Accident')\n",
            "(11, 'John', 205, 'Diabetes')\n",
            "(13, 'Wilsmith', 208, 'Nightbindness')\n",
            "(14, 'Aryan', 696, 'Depression')\n"
          ]
        }
      ]
    }
  ]
}