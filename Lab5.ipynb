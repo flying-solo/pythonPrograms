{
  "nbformat": 4,
  "nbformat_minor": 0,
  "metadata": {
    "colab": {
      "name": "Lab5.ipynb",
      "provenance": [],
      "authorship_tag": "ABX9TyPro7G1QJA2gLNnac67bR9t",
      "include_colab_link": true
    },
    "kernelspec": {
      "name": "python3",
      "display_name": "Python 3"
    },
    "language_info": {
      "name": "python"
    }
  },
  "cells": [
    {
      "cell_type": "markdown",
      "metadata": {
        "id": "view-in-github",
        "colab_type": "text"
      },
      "source": [
        "<a href=\"https://colab.research.google.com/github/flying-solo/pythonPrograms/blob/main/Lab5.ipynb\" target=\"_parent\"><img src=\"https://colab.research.google.com/assets/colab-badge.svg\" alt=\"Open In Colab\"/></a>"
      ]
    },
    {
      "cell_type": "code",
      "execution_count": 10,
      "metadata": {
        "colab": {
          "base_uri": "https://localhost:8080/"
        },
        "id": "j42utFQnAv_d",
        "outputId": "adc1fbd9-51f6-4476-a297-0728dc6c7343"
      },
      "outputs": [
        {
          "output_type": "stream",
          "name": "stdout",
          "text": [
            "[(10, 'Sophia', 'Anthony', 'sa2345@srmist.edu.in', 1234567891, -2002, 1262, 30000, 5000, 90, 1231)]\n"
          ]
        }
      ],
      "source": [
        "import sqlite3 \n",
        "con=sqlite3.connect('Organization db')\n",
        "c=con.cursor()\n",
        "c.execute(\"create table IF NOT PRESENT employees(Employee_ID int, first_name text, last_name text, email text, phone int, hire_date date, job_id int, salary int, commission int, manager_id int, department_id int\")\n",
        "c.execute(\"Insert into employees values(10,'Sophia','Anthony','sa2345@srmist.edu.in',1234567891,23-03-2022,1262,30000,5000,90,1231)\")\n",
        "\n",
        "c.execute(\"Select * from employees\")\n",
        "con.commit()\n",
        "\n",
        "print(c.fetchall())"
      ]
    },
    {
      "cell_type": "code",
      "source": [
        "import sqlite3\n",
        "con=sqlite3.connect('School db')\n",
        "c=con.cursor()\n",
        "c.execute(\"create table if not exist student(Reg_no int,stud_name text,sex text)\")\n",
        "c.execute(\"create table  if not exist dept(dept_no int primary key, dept_name text)\")\n",
        "c.execute(\"Insert into student values(185,'Harshit','Male')\")\n",
        "c.execute(\"Insert into student values(191,'Aryan','Male')\")\n",
        "c.execute(\"Insert into student values(186,'Pranav','Male')\")\n",
        "c.execute(\"Insert into student values(125,'Anupama','Female')\")\n",
        "c.execute(\"Insert into student values(115,'Kritika','Female')\")\n",
        "\n",
        "c.execute(\"Select * from student\")\n",
        "con.commit()\n",
        "data=c.fetchall()\n",
        "for i in data:\n",
        "  print(i)"
      ],
      "metadata": {
        "colab": {
          "base_uri": "https://localhost:8080/"
        },
        "id": "o6fTM8xsF4NV",
        "outputId": "7ca1bcd3-d6be-4b10-b786-4192210fbd08"
      },
      "execution_count": 14,
      "outputs": [
        {
          "output_type": "stream",
          "name": "stdout",
          "text": [
            "[(185, 'Harshit', 'Male'), (191, 'Aryan', 'Male'), (186, 'Pranav', 'Male'), (125, 'Anupama', 'Female'), (115, 'Kritika', 'Female')]\n"
          ]
        }
      ]
    },
    {
      "cell_type": "code",
      "source": [
        "c.execute(\"Select * from student\")\n",
        "con.commit()\n",
        "data=c.fetchall()\n",
        "for i in data:\n",
        "  print(i)"
      ],
      "metadata": {
        "colab": {
          "base_uri": "https://localhost:8080/"
        },
        "id": "6xezV2HcIN4W",
        "outputId": "1409ef9f-b4fb-4464-a178-648ba40e6954"
      },
      "execution_count": 16,
      "outputs": [
        {
          "output_type": "stream",
          "name": "stdout",
          "text": [
            "(185, 'Harshit', 'Male')\n",
            "(191, 'Aryan', 'Male')\n",
            "(186, 'Pranav', 'Male')\n",
            "(125, 'Anupama', 'Female')\n",
            "(115, 'Kritika', 'Female')\n"
          ]
        }
      ]
    },
    {
      "cell_type": "code",
      "source": [
        "c.execute(\"Select * from student where sex='Female'\")\n",
        "con.commit()\n",
        "data=c.fetchall()\n",
        "for i in data:\n",
        "  print(i)"
      ],
      "metadata": {
        "colab": {
          "base_uri": "https://localhost:8080/"
        },
        "id": "uyr1657NIctU",
        "outputId": "aee099fc-0d6d-4ab7-e388-952758ed2ea7"
      },
      "execution_count": 20,
      "outputs": [
        {
          "output_type": "stream",
          "name": "stdout",
          "text": [
            "(125, 'Anupama', 'Female')\n",
            "(115, 'Kritika', 'Female')\n"
          ]
        }
      ]
    },
    {
      "cell_type": "code",
      "source": [
        "c.execute(\"Select * from student ORDER BY stud_name asc\")\n",
        "con.commit()\n",
        "data=c.fetchall()\n",
        "for i in data:\n",
        "  print(i)"
      ],
      "metadata": {
        "colab": {
          "base_uri": "https://localhost:8080/"
        },
        "id": "T1jrrobJI7kW",
        "outputId": "6ae1c58c-45cf-43e2-c24b-cf76b44f15a2"
      },
      "execution_count": 22,
      "outputs": [
        {
          "output_type": "stream",
          "name": "stdout",
          "text": [
            "(125, 'Anupama', 'Female')\n",
            "(191, 'Aryan', 'Male')\n",
            "(185, 'Harshit', 'Male')\n",
            "(115, 'Kritika', 'Female')\n",
            "(186, 'Pranav', 'Male')\n"
          ]
        }
      ]
    },
    {
      "cell_type": "code",
      "source": [
        "c.execute(\"Select * from student where stud_name like '%ka'\")\n",
        "con.commit()\n",
        "data=c.fetchall()\n",
        "for i in data:\n",
        "  print(i)"
      ],
      "metadata": {
        "colab": {
          "base_uri": "https://localhost:8080/"
        },
        "id": "-wxpKO3fKF1T",
        "outputId": "15b3ce17-e9f0-4cf9-c473-6289895778e6"
      },
      "execution_count": 23,
      "outputs": [
        {
          "output_type": "stream",
          "name": "stdout",
          "text": [
            "(115, 'Kritika', 'Female')\n"
          ]
        }
      ]
    },
    {
      "cell_type": "code",
      "source": [
        ""
      ],
      "metadata": {
        "id": "y4pRwPdzKXwA"
      },
      "execution_count": null,
      "outputs": []
    },
    {
      "cell_type": "code",
      "source": [
        "import sqlite3\n",
        "con=sqlite3.connect('Food db')\n",
        "c=con.cursor()\n",
        "c.execute(\"create table if not exists recipie(id int,name text,description text,category_id text,chef_id text,created datetime)\")\n",
        "\n",
        "c.execute(\"Insert into recipie values(185,'Noodles','Chinese','123ed','BL000002','2022-04-23 13:13:23')\")\n",
        "c.execute(\"Insert into recipie values(191,'Momos','Chinese','124ed','BL000001','2022-04-23 13:13:23')\")\n",
        "c.execute(\"Insert into recipie values(186,'pizza','Italian','125ed','BL000006','2022-04-23 13:13:23')\")\n",
        "c.execute(\"Insert into recipie values(125,'DOSA','South Indian','126ed','BL000008','2022-04-23 13:13:23')\")\n",
        "c.execute(\"Insert into recipie values(115,'Dhokla','Gujarat','723ed','BL000032','2022-04-23 13:13:23')\")\n",
        "\n",
        "c.execute(\"Select * from recipie\")\n",
        "con.commit()\n",
        "data=c.fetchall()\n",
        "for i in data:\n",
        "  print(i)"
      ],
      "metadata": {
        "colab": {
          "base_uri": "https://localhost:8080/"
        },
        "id": "QP9amGe_KgEf",
        "outputId": "0de0a5b1-4724-4a37-85e4-c6e696919aa0"
      },
      "execution_count": 30,
      "outputs": [
        {
          "output_type": "stream",
          "name": "stdout",
          "text": [
            "(185, 'Noodles', 'Chinese', '123ed', 'BL000002', '2022-04-23 13:13:23')\n",
            "(191, 'Momos', 'Chinese', '124ed', 'BL000001', '2022-04-23 13:13:23')\n",
            "(186, 'pizza', 'Italian', '125ed', 'BL000006', '2022-04-23 13:13:23')\n",
            "(125, 'DOSA', 'South Indian', '126ed', 'BL000008', '2022-04-23 13:13:23')\n",
            "(115, 'Dhokla', 'Gujarat', '723ed', 'BL000032', '2022-04-23 13:13:23')\n"
          ]
        }
      ]
    },
    {
      "cell_type": "code",
      "source": [
        "c.execute(\"Select id, name from recipie where chef_id='BL000002'\")\n",
        "con.commit()\n",
        "data=c.fetchall()\n",
        "for i in data:\n",
        "  print(i)"
      ],
      "metadata": {
        "colab": {
          "base_uri": "https://localhost:8080/"
        },
        "id": "WFhcH1fNNnod",
        "outputId": "60c2a9c4-8d1b-4550-a3e6-022a98eef619"
      },
      "execution_count": 35,
      "outputs": [
        {
          "output_type": "stream",
          "name": "stdout",
          "text": [
            "(185, 'Noodles')\n"
          ]
        }
      ]
    },
    {
      "cell_type": "code",
      "source": [
        "c.execute(\"Insert into recipie values(215,'Woffels','Paris','723ed','BL003032','2022-04-23 13:13:23')\")\n",
        "c.execute(\"Select * from recipie where description like 'P%'\")\n",
        "con.commit()\n",
        "data=c.fetchall()\n",
        "for i in data:\n",
        "  print(i)"
      ],
      "metadata": {
        "colab": {
          "base_uri": "https://localhost:8080/"
        },
        "id": "KHzqEhJ2PpvE",
        "outputId": "23bb6884-f64d-4eac-941f-440b46f966bc"
      },
      "execution_count": 36,
      "outputs": [
        {
          "output_type": "stream",
          "name": "stdout",
          "text": [
            "(215, 'Woffels', 'Paris', '723ed', 'BL003032', '2022-04-23 13:13:23')\n"
          ]
        }
      ]
    },
    {
      "cell_type": "code",
      "source": [
        ""
      ],
      "metadata": {
        "id": "UFGiCi_MP6Nu"
      },
      "execution_count": null,
      "outputs": []
    },
    {
      "cell_type": "markdown",
      "source": [
        ""
      ],
      "metadata": {
        "id": "udDXe-4BNnIX"
      }
    }
  ]
}